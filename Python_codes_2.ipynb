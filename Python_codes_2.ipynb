{
  "nbformat": 4,
  "nbformat_minor": 0,
  "metadata": {
    "colab": {
      "provenance": []
    },
    "kernelspec": {
      "name": "python3",
      "display_name": "Python 3"
    },
    "language_info": {
      "name": "python"
    }
  },
  "cells": [
    {
      "cell_type": "code",
      "execution_count": null,
      "metadata": {
        "colab": {
          "base_uri": "https://localhost:8080/"
        },
        "id": "qmVCzs1rW860",
        "outputId": "ec559056-e8f9-4bc8-b25c-2832bc7ad386"
      },
      "outputs": [
        {
          "output_type": "stream",
          "name": "stdout",
          "text": [
            "DEMO\n",
            "Constructor\n"
          ]
        }
      ],
      "source": [
        "class car:\n",
        "  def __init__(self):\n",
        "    print(\"DEMO\")\n",
        "  def display(self):\n",
        "    print(\"Constructor\")\n",
        "b=car()\n",
        "b.display()"
      ]
    },
    {
      "cell_type": "code",
      "source": [
        "class student:\n",
        "  def __init__(self,name,rollno,marks):\n",
        "    self.name=name\n",
        "    self.rollno=rollno\n",
        "    self.marks=marks\n",
        "\n",
        "  def display(self):\n",
        "    print(\"My name: \",self.name,\"Roll no is: \",self.rollno,\"Marks: \",self.marks)\n",
        "   # print(\"\\nRoll no is: \",self.rollno)\n",
        "   # print(\"Marks: \",self.marks)\n",
        "oby=student(\"Dinesh\",\"14\",\"80\",)\n",
        "oby.display()"
      ],
      "metadata": {
        "colab": {
          "base_uri": "https://localhost:8080/"
        },
        "id": "auE6MouMZ85H",
        "outputId": "3ad79074-8dfc-4dcb-88e2-b0cec4c7fea9"
      },
      "execution_count": null,
      "outputs": [
        {
          "output_type": "stream",
          "name": "stdout",
          "text": [
            "My name:  Dinesh ,Roll no is:  14 ,Marks:  80\n"
          ]
        }
      ]
    },
    {
      "cell_type": "code",
      "source": [
        "class car:\n",
        "  def __init__(self,model,name,colour):\n",
        "    self.model=model\n",
        "    self.name=name\n",
        "    self.colour=colour\n",
        "\n",
        "  def mode(self):\n",
        "    print(f\"The car model is {self.model}\")\n",
        "  def color(self):\n",
        "    print(f\"The colour of the car is {self.colour}\")\n",
        "\n",
        "  def drive(self):\n",
        "    print(f\"the {self.name} is driving\")\n",
        "  def stop(self):\n",
        "    print(f\"The {self.name} is stopped\")\n",
        "\n",
        "car1=car(1969,\"Mustang\",\"Black\")\n",
        "car2=car(2000,\"Contessa\",\"Black\")\n",
        "car2.drive()\n",
        "car1.stop()\n",
        "car2.color()\n",
        "car2.mode()"
      ],
      "metadata": {
        "colab": {
          "base_uri": "https://localhost:8080/"
        },
        "id": "sOGrSKd8e9y3",
        "outputId": "0b18fcee-26bb-4778-ff2c-de24803871a0"
      },
      "execution_count": null,
      "outputs": [
        {
          "output_type": "stream",
          "name": "stdout",
          "text": [
            "the Contessa is driving\n",
            "The Mustang is stopped\n",
            "The colour of the car is Black\n",
            "The car model is 2000\n"
          ]
        }
      ]
    },
    {
      "cell_type": "code",
      "source": [
        "#Encapsulation\n",
        "class car:\n",
        "  def open_door(self):\n",
        "    print(\"Door is open\")\n",
        "  def _accelerate(self):                        # 1 underscore means it is protected\n",
        "    print(\"Throttle increase\")\n",
        "  def __enginestart(Self):                      # 2 underscores means it is private\n",
        "    print(\"Engine Started\")\n",
        "car1=car()\n",
        "car1.open_door()\n",
        "#car1.accelerate()   it gives error to access the protected method we need to use single underscore(_) infront of them\n",
        "car1._accelerate()\n",
        "#car1._enginestart()    it gives error\n",
        "#car1.__enginestart() it gives error, to access the private method we need to use single underscore(_) infront of classname and then use the methodname\\\n",
        "car1._car__enginestart()"
      ],
      "metadata": {
        "colab": {
          "base_uri": "https://localhost:8080/"
        },
        "id": "a_UUtu3Xjb8O",
        "outputId": "eb0f934e-cb06-4a5f-f658-227c08267ee3"
      },
      "execution_count": null,
      "outputs": [
        {
          "output_type": "stream",
          "name": "stdout",
          "text": [
            "Door is open\n",
            "Throttle increase\n",
            "Engine Started\n"
          ]
        }
      ]
    },
    {
      "cell_type": "code",
      "source": [
        "#Polymorphism\n",
        "class father:\n",
        "  def role(self):\n",
        "    print(\"Taking care of the family\")\n",
        "class Employee():                       #class Employee(father):    both are correct\n",
        "  def role(self):\n",
        "    print(\"Working in the company\")\n",
        "dad=father()\n",
        "emp=Employee()\n",
        "dad.role()\n",
        "emp.role()"
      ],
      "metadata": {
        "colab": {
          "base_uri": "https://localhost:8080/"
        },
        "id": "Daz2Qrr6n5WR",
        "outputId": "d63bce74-c20f-44e2-e24f-4635748e4750"
      },
      "execution_count": null,
      "outputs": [
        {
          "output_type": "stream",
          "name": "stdout",
          "text": [
            "Taking care of the family\n",
            "Working in the company\n"
          ]
        }
      ]
    },
    {
      "cell_type": "code",
      "source": [
        "#Inheritance\n",
        "class father:\n",
        "  def action(Self):\n",
        "    print(\"Take the car\")\n",
        "class son(father):\n",
        "  def music(Self):\n",
        "    print(\"Singing Pop music\")\n",
        "a=son()\n",
        "a.action()"
      ],
      "metadata": {
        "colab": {
          "base_uri": "https://localhost:8080/"
        },
        "id": "06a5beU_qFpk",
        "outputId": "a524e031-1f70-4664-8690-65677adcd772"
      },
      "execution_count": null,
      "outputs": [
        {
          "output_type": "stream",
          "name": "stdout",
          "text": [
            "Take the car\n"
          ]
        }
      ]
    },
    {
      "cell_type": "code",
      "source": [
        "#Abstraction\n",
        "class Animal:\n",
        "  def sound(self):\n",
        "    pass\n",
        "class Dog(Animal):\n",
        "  def sound(self):\n",
        "    print(\"Dog barks\")\n",
        "class Cat(Animal):\n",
        "  def sound(self):\n",
        "    print(\"Cat meows\")\n",
        "Dog().sound()\n",
        "Cat().sound()\n"
      ],
      "metadata": {
        "colab": {
          "base_uri": "https://localhost:8080/"
        },
        "id": "uIXZjsYAziqE",
        "outputId": "92bb4a7c-28fd-4122-ea3a-e6e23d97fc44"
      },
      "execution_count": null,
      "outputs": [
        {
          "output_type": "stream",
          "name": "stdout",
          "text": [
            "Dog barks\n",
            "Cat meows\n"
          ]
        }
      ]
    },
    {
      "cell_type": "code",
      "source": [
        "#Exception Handling\n",
        "try:\n",
        "  num = int(input(\"Enter a number: \"))\n",
        "  result =10/num\n",
        "except ZeroDivisionError:\n",
        "  print(\"Cannot divide by zero.\")\n",
        "except ValueError:\n",
        "  print(\"Inavalid Input, enter a valid input \")\n",
        "else:\n",
        "  print(\"Result is \",result)\n",
        "finally:\n",
        "  print(\"Program ended\")"
      ],
      "metadata": {
        "colab": {
          "base_uri": "https://localhost:8080/"
        },
        "id": "K1cUx5nR2QSN",
        "outputId": "05b57c33-c5b2-4caf-d435-2c9714ffd8e4"
      },
      "execution_count": null,
      "outputs": [
        {
          "output_type": "stream",
          "name": "stdout",
          "text": [
            "Enter a number: q\n",
            "Inavalid Input, enter a number: \n",
            "Program ended\n"
          ]
        }
      ]
    },
    {
      "cell_type": "code",
      "source": [
        "#Argunents\n",
        "def add(*args):\n",
        "  total=0\n",
        "  for num in args:\n",
        "    total += num\n",
        "  print(\"Total: \",total)\n",
        "add(5,10)\n",
        "add(1,2,3,4,5)"
      ],
      "metadata": {
        "colab": {
          "base_uri": "https://localhost:8080/"
        },
        "id": "ZMeHDyhAPHGg",
        "outputId": "6082d36a-19dd-43eb-e40b-fb0743ae98ca"
      },
      "execution_count": null,
      "outputs": [
        {
          "output_type": "stream",
          "name": "stdout",
          "text": [
            "Total:  15\n",
            "Total:  15\n"
          ]
        }
      ]
    },
    {
      "cell_type": "code",
      "source": [
        "#Keyword arguments\n",
        "def details(**kwargs):\n",
        "  for key, value in kwargs.items():\n",
        "    print(f\"{key} : {value}\")\n",
        "details(name = \"Dinesh\", age = 21, country = \"India\")"
      ],
      "metadata": {
        "colab": {
          "base_uri": "https://localhost:8080/"
        },
        "id": "2ZeAor8CP-Ds",
        "outputId": "c0c8387c-bc2a-4bc1-a6d6-9cdd602f95ba"
      },
      "execution_count": null,
      "outputs": [
        {
          "output_type": "stream",
          "name": "stdout",
          "text": [
            "name : Dinesh\n",
            "age : 21\n",
            "country : India\n"
          ]
        }
      ]
    },
    {
      "cell_type": "code",
      "source": [
        "#Method Overriding\n",
        "\n",
        "class bob:\n",
        "  def mrng(self):\n",
        "    print(\"Hii\")\n",
        "class gill(bob):\n",
        "  def mrng(self):       #method overriding\n",
        "    print(\"Hello\")\n",
        "car=gill()\n",
        "car.mrng()"
      ],
      "metadata": {
        "colab": {
          "base_uri": "https://localhost:8080/"
        },
        "id": "N7_OgDbGRVDC",
        "outputId": "7eef0f05-8a47-4d6b-f626-c764f385e3e4"
      },
      "execution_count": null,
      "outputs": [
        {
          "output_type": "stream",
          "name": "stdout",
          "text": [
            "Hello\n"
          ]
        }
      ]
    },
    {
      "cell_type": "code",
      "source": [
        "#Method Overloading\n",
        "class Calculator:\n",
        "  def add(self,a=10,b=0,c=0):\n",
        "    print(a+b+c)\n",
        "cal=Calculator()\n",
        "cal.add(10,20,30)\n",
        "cal.add(10,20)"
      ],
      "metadata": {
        "colab": {
          "base_uri": "https://localhost:8080/"
        },
        "id": "AooFPw6YTevy",
        "outputId": "1b372952-0321-4e31-89a9-07e94d68ec11"
      },
      "execution_count": null,
      "outputs": [
        {
          "output_type": "stream",
          "name": "stdout",
          "text": [
            "60\n",
            "30\n"
          ]
        }
      ]
    },
    {
      "cell_type": "code",
      "source": [
        "#Method Overloading with arguments\n",
        "class Calaulator:\n",
        "  def add(*args):\n",
        "    total=0\n",
        "    for num in args:\n",
        "      total += num\n",
        "    print(total)\n",
        "cal=Calculator()\n",
        "cal.add(10,20,30)\n",
        "cal.add(10,30)"
      ],
      "metadata": {
        "colab": {
          "base_uri": "https://localhost:8080/"
        },
        "id": "4eNsA3zxVLzg",
        "outputId": "830a30e6-0f7e-4f24-e459-882f18971cce"
      },
      "execution_count": null,
      "outputs": [
        {
          "output_type": "stream",
          "name": "stdout",
          "text": [
            "60\n",
            "40\n"
          ]
        }
      ]
    },
    {
      "cell_type": "code",
      "source": [],
      "metadata": {
        "id": "ne6qgXVPalLb"
      },
      "execution_count": null,
      "outputs": []
    }
  ]
}