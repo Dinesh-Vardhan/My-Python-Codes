{
  "cells": [
    {
      "cell_type": "code",
      "execution_count": null,
      "metadata": {
        "colab": {
          "base_uri": "https://localhost:8080/"
        },
        "id": "XTjDcgrU6Lc-",
        "outputId": "b79c51b3-6c3d-4595-a279-632e36c91cf6"
      },
      "outputs": [
        {
          "name": "stdout",
          "output_type": "stream",
          "text": [
            "Enter a Year: 2003\n",
            "Enter a Month: 11\n",
            "   November 2003\n",
            "Mo Tu We Th Fr Sa Su\n",
            "                1  2\n",
            " 3  4  5  6  7  8  9\n",
            "10 11 12 13 14 15 16\n",
            "17 18 19 20 21 22 23\n",
            "24 25 26 27 28 29 30\n",
            "\n"
          ]
        }
      ],
      "source": [
        "import calendar\n",
        "y=int(input(\"Enter a Year: \"))\n",
        "m=int(input(\"Enter a Month: \"))\n",
        "cal = calendar.month(y,m)\n",
        "print(cal)"
      ]
    },
    {
      "cell_type": "code",
      "execution_count": null,
      "metadata": {
        "colab": {
          "base_uri": "https://localhost:8080/"
        },
        "id": "xSC0xE1f6vpY",
        "outputId": "248978af-1703-4f49-8bc6-073b89f742be"
      },
      "outputs": [
        {
          "name": "stdout",
          "output_type": "stream",
          "text": [
            "nohtyP olleH\n"
          ]
        }
      ],
      "source": [
        "#Slicing\n",
        "s1=\"Hello Python\"\n",
        "print(s1[::-1])"
      ]
    },
    {
      "cell_type": "code",
      "execution_count": null,
      "metadata": {
        "colab": {
          "base_uri": "https://localhost:8080/"
        },
        "id": "QTG5N4xC7Cx7",
        "outputId": "8c627313-da8d-46d1-9b34-1a75b9ae0a5e"
      },
      "outputs": [
        {
          "name": "stdout",
          "output_type": "stream",
          "text": [
            "unhsiV\n"
          ]
        }
      ],
      "source": [
        "#join and reversed\n",
        "def rev_str(s):\n",
        "  return''.join(reversed(s))\n",
        "print(rev_str(\"Vishnu\"))"
      ]
    },
    {
      "cell_type": "code",
      "execution_count": null,
      "metadata": {
        "colab": {
          "base_uri": "https://localhost:8080/"
        },
        "id": "Hi2qMmBw8qny",
        "outputId": "d9c0acf9-41c6-4f9e-e26f-8d4e245126c2"
      },
      "outputs": [
        {
          "name": "stdout",
          "output_type": "stream",
          "text": [
            "hseniD\n"
          ]
        }
      ],
      "source": [
        "#Loop\n",
        "def rev_str(n):\n",
        "  rev=\"\"\n",
        "  for char in n:\n",
        "    rev=char+rev\n",
        "  return rev\n",
        "print(rev_str(\"Dinesh\"))"
      ]
    },
    {
      "cell_type": "code",
      "execution_count": null,
      "metadata": {
        "colab": {
          "base_uri": "https://localhost:8080/"
        },
        "id": "YmYcDHEz9i2F",
        "outputId": "656bbb55-909f-4c25-f647-a1ceb56eeb3b"
      },
      "outputs": [
        {
          "name": "stdout",
          "output_type": "stream",
          "text": [
            "[1, 2, 3] ['red', 'blue'][1, 2, 3] ['red', 'blue'][1, 2, 3] ['red', 'blue'][1, 2, 3] ['red', 'blue'][1, 2, 3] ['red', 'blue'][1, 2, 3] ['red', 'blue']"
          ]
        }
      ],
      "source": [
        "#Recursion\n",
        "l1=[1,2,3]\n",
        "l2=[\"red\",\"blue\"]\n",
        "for i in l1:\n",
        "    for j in l2:\n",
        "      print(l1,l2,end='')"
      ]
    },
    {
      "cell_type": "code",
      "execution_count": null,
      "metadata": {
        "colab": {
          "base_uri": "https://localhost:8080/"
        },
        "id": "90bRdbieCIFb",
        "outputId": "e6f54437-c239-402b-bc02-4a75a89774b2"
      },
      "outputs": [
        {
          "name": "stdout",
          "output_type": "stream",
          "text": [
            "Enter a Number: 5\n",
            "5 x 1 = 5\n",
            "5 x 2 = 10\n",
            "5 x 3 = 15\n",
            "5 x 4 = 20\n",
            "5 x 5 = 25\n",
            "5 x 6 = 30\n",
            "5 x 7 = 35\n",
            "5 x 8 = 40\n",
            "5 x 9 = 45\n",
            "5 x 10 = 50\n"
          ]
        }
      ],
      "source": [
        "#Printing a Table\n",
        "n=int(input(\"Enter a Number: \"))\n",
        "for i in range(1,11):\n",
        "  print(n,\"x\",i,\"=\",n*i)"
      ]
    },
    {
      "cell_type": "code",
      "execution_count": null,
      "metadata": {
        "colab": {
          "base_uri": "https://localhost:8080/"
        },
        "id": "IX-5djS7DQTo",
        "outputId": "8d09b6ca-d84a-487a-efcb-c65a82a6e3a6"
      },
      "outputs": [
        {
          "name": "stdout",
          "output_type": "stream",
          "text": [
            "Enter n: 48\n",
            "Enter n1: 8\n",
            "Enter n2: 4\n",
            "6.0\n"
          ]
        }
      ],
      "source": [
        "#Building a simple calculator\n",
        "n=int(input(\"Enter n: \"))\n",
        "n1=int(input(\"Enter n1: \"))\n",
        "n2=int(input(\"Enter n2: \"))\n",
        "if n2==1:\n",
        "  print(n+n1)\n",
        "elif n2==2:\n",
        "  print(n-n1)\n",
        "elif n2==3:\n",
        "  print(n*n1)\n",
        "elif n2==4:\n",
        "  print(n/n1)\n",
        "else:\n",
        "  print(\"Invalid Input\")"
      ]
    },
    {
      "cell_type": "code",
      "execution_count": null,
      "metadata": {
        "colab": {
          "base_uri": "https://localhost:8080/"
        },
        "id": "9arOmPgcEsFC",
        "outputId": "3a6ff5f6-b301-44ed-81cc-02cdb94894a6"
      },
      "outputs": [
        {
          "name": "stdout",
          "output_type": "stream",
          "text": [
            "Enter a Number: 5\n",
            "select operator(+,-,*,/): +\n",
            "Enter a number: 7\n",
            "5+7 = 12\n"
          ]
        }
      ],
      "source": [
        "#Another calculator\n",
        "n1=int(input(\"Enter a Number: \"))\n",
        "operator = input(\"select operator(+,-,*,/): \")\n",
        "n2=int(input(\"Enter a number: \"))\n",
        "result=1\n",
        "if operator=='+':\n",
        "  result = n1+n2\n",
        "elif operator=='-':\n",
        "  result = n1-n2\n",
        "elif operator=='*':\n",
        "  result = n1*n2\n",
        "elif operator=='/':\n",
        "  result = n1/n2\n",
        "else:\n",
        "  print(\"Invalid Input\")\n",
        "print(f\"{n1}{operator}{n2} = {result}\")"
      ]
    },
    {
      "cell_type": "code",
      "execution_count": null,
      "metadata": {
        "colab": {
          "base_uri": "https://localhost:8080/"
        },
        "id": "ahDv_HGgHrLT",
        "outputId": "6d3e4862-c7e2-4e30-a47a-7bb6c61c800f"
      },
      "outputs": [
        {
          "name": "stdout",
          "output_type": "stream",
          "text": [
            "0\n",
            "1\n",
            "2\n",
            "3\n",
            "4\n",
            "5\n",
            "6\n",
            "7\n",
            "8\n",
            "9\n",
            "10\n",
            "11\n",
            "12\n",
            "13\n",
            "14\n",
            "15\n",
            "16\n",
            "17\n",
            "18\n",
            "19\n",
            "20\n",
            "21\n",
            "22\n",
            "23\n",
            "24\n",
            "25\n",
            "26\n",
            "27\n",
            "28\n",
            "29\n",
            "30\n",
            "31\n",
            "32\n",
            "33\n",
            "34\n",
            "35\n",
            "36\n",
            "37\n",
            "38\n",
            "39\n",
            "40\n",
            "41\n",
            "42\n",
            "43\n",
            "44\n",
            "45\n",
            "46\n",
            "47\n",
            "48\n",
            "49\n"
          ]
        }
      ],
      "source": [
        "i=1\n",
        "for i in range (50):\n",
        "  print(i)\n",
        "  if i==10:\n",
        "    continue\n",
        "  if i==10:\n",
        "    break\n",
        "  i+=1"
      ]
    },
    {
      "cell_type": "code",
      "execution_count": null,
      "metadata": {
        "colab": {
          "base_uri": "https://localhost:8080/"
        },
        "id": "k8znTnuwNNzx",
        "outputId": "23fefc0a-dcf8-4b9e-a014-db5702696a74"
      },
      "outputs": [
        {
          "name": "stdout",
          "output_type": "stream",
          "text": [
            "Enter a Number: 5\n",
            "*\n",
            "**\n",
            "***\n",
            "****\n",
            "*****\n"
          ]
        }
      ],
      "source": [
        "n=int(input(\"Enter a Number: \"))\n",
        "for rows in range(1,n+1):\n",
        "  for cols in range(1,rows+1):\n",
        "    print(\"*\",end=\"\")\n",
        "  print()"
      ]
    },
    {
      "cell_type": "code",
      "execution_count": null,
      "metadata": {
        "colab": {
          "base_uri": "https://localhost:8080/"
        },
        "id": "kMcpig_cPoz9",
        "outputId": "2feb57af-e155-4e9c-8652-3646a09b11b0"
      },
      "outputs": [
        {
          "name": "stdout",
          "output_type": "stream",
          "text": [
            "*\n",
            "**\n",
            "***\n",
            "****\n",
            "*****\n"
          ]
        }
      ],
      "source": [
        "n=5\n",
        "for i in range (n):\n",
        "  for j in range (i+1):\n",
        "    print(\"*\",end=\"\")\n",
        "  print()"
      ]
    },
    {
      "cell_type": "code",
      "execution_count": null,
      "metadata": {
        "colab": {
          "base_uri": "https://localhost:8080/"
        },
        "id": "_FJLAdQeP_DT",
        "outputId": "f1734153-478b-431b-d4ab-8b75087955c7"
      },
      "outputs": [
        {
          "name": "stdout",
          "output_type": "stream",
          "text": [
            "*****\n",
            "****\n",
            "***\n",
            "**\n",
            "*\n"
          ]
        }
      ],
      "source": [
        "n=5\n",
        "for i in range (n):\n",
        "  for j in range (n-i):\n",
        "    print(\"*\",end='')\n",
        "  print()"
      ]
    },
    {
      "cell_type": "code",
      "execution_count": null,
      "metadata": {
        "colab": {
          "base_uri": "https://localhost:8080/"
        },
        "id": "WoSJaKYnQ-rF",
        "outputId": "10e69183-d10d-43e8-85ab-5a1538565849"
      },
      "outputs": [
        {
          "name": "stdout",
          "output_type": "stream",
          "text": [
            "1\n",
            "22\n",
            "333\n",
            "4444\n",
            "55555\n"
          ]
        }
      ],
      "source": [
        "n=5\n",
        "for i in range (n):\n",
        "  for j in range (i+1):\n",
        "    print(i+1,end='')\n",
        "  print()"
      ]
    },
    {
      "cell_type": "code",
      "execution_count": null,
      "metadata": {
        "colab": {
          "base_uri": "https://localhost:8080/"
        },
        "id": "LmGt_yEtSKd3",
        "outputId": "88144e0f-9e7d-41da-b23d-020a0cf7ea38"
      },
      "outputs": [
        {
          "name": "stdout",
          "output_type": "stream",
          "text": [
            "\n",
            "1\n",
            "23\n",
            "456\n",
            "78910\n"
          ]
        }
      ],
      "source": [
        "n = 5\n",
        "num=1\n",
        "\n",
        "for i in range(n):\n",
        "    for j in range(i):\n",
        "        print(num, end='')\n",
        "        num += 1\n",
        "    print()\n"
      ]
    },
    {
      "cell_type": "code",
      "execution_count": null,
      "metadata": {
        "colab": {
          "base_uri": "https://localhost:8080/"
        },
        "id": "1hD7BDpkTrPS",
        "outputId": "b3316655-4620-4c36-f1b3-6e7b93f0c561"
      },
      "outputs": [
        {
          "name": "stdout",
          "output_type": "stream",
          "text": [
            "i\n",
            "e\n",
            "2\n",
            "Dnsh"
          ]
        }
      ],
      "source": [
        "word=\"Dinesh\"\n",
        "vowel=['a','e','i','o','u']\n",
        "count=0\n",
        "for char in word:\n",
        "  if char in vowel:\n",
        "\n",
        "    print(char )\n",
        "    count+=1\n",
        "\n",
        "print(count)\n",
        "for char in word:\n",
        "  if char not in vowel:\n",
        "    print(char, end=\"\")\n"
      ]
    },
    {
      "cell_type": "code",
      "execution_count": null,
      "metadata": {
        "colab": {
          "base_uri": "https://localhost:8080/"
        },
        "id": "_5glYCP7cK4a",
        "outputId": "eeaa9e72-fe0a-4d0c-ed52-918195fd09b9"
      },
      "outputs": [
        {
          "name": "stdout",
          "output_type": "stream",
          "text": [
            "120\n"
          ]
        }
      ],
      "source": [
        "n=5\n",
        "fact=1\n",
        "for i in range(1,n+1):\n",
        "  fact=fact*i\n",
        "print(fact)"
      ]
    },
    {
      "cell_type": "code",
      "execution_count": null,
      "metadata": {
        "colab": {
          "base_uri": "https://localhost:8080/"
        },
        "id": "gg7FQKcHcxT-",
        "outputId": "6fcf4140-7117-4aba-ebf3-ec7d7d4a521a"
      },
      "outputs": [
        {
          "name": "stdout",
          "output_type": "stream",
          "text": [
            "120\n"
          ]
        }
      ],
      "source": [
        "n=5\n",
        "fact=1\n",
        "i=1\n",
        "while i<n+1:\n",
        "  fact=fact*i\n",
        "  i+=1\n",
        "print(fact)"
      ]
    },
    {
      "cell_type": "code",
      "execution_count": null,
      "metadata": {
        "id": "0zajtaiRdGvu"
      },
      "outputs": [],
      "source": [
        "n=int(input())\n",
        "for i in range(n):\n",
        "  x=int(input())\n",
        "  if x//10>100:\n",
        "    print(x//10)\n",
        "  else:\n",
        "    print(100)\n"
      ]
    },
    {
      "cell_type": "code",
      "execution_count": null,
      "metadata": {
        "colab": {
          "base_uri": "https://localhost:8080/"
        },
        "id": "md5pz3y3vBDB",
        "outputId": "b802083f-a4fb-49c2-eb42-60a801b21409"
      },
      "outputs": [
        {
          "name": "stdout",
          "output_type": "stream",
          "text": [
            "3\n",
            "10 10\n",
            "1\n",
            "20 4\n",
            "0\n",
            "70 7\n",
            "4\n"
          ]
        }
      ],
      "source": [
        "T = int(input())\n",
        "for _ in range(T):\n",
        "    X, Y = map(int, input().split())\n",
        "    print(X * Y // 100)"
      ]
    },
    {
      "cell_type": "code",
      "execution_count": null,
      "metadata": {
        "colab": {
          "base_uri": "https://localhost:8080/"
        },
        "id": "DdfROfUp0PkW",
        "outputId": "ed1a2a73-37dd-4874-818c-2bcc14113322"
      },
      "outputs": [
        {
          "name": "stdout",
          "output_type": "stream",
          "text": [
            "1\n",
            "1\n",
            "2\n",
            "3\n",
            "5\n",
            "8\n",
            "13\n",
            "21\n",
            "34\n",
            "55\n"
          ]
        }
      ],
      "source": [
        "n=10\n",
        "m,o=0,1\n",
        "for i in range(n):\n",
        "  m,o=o,m+o\n",
        "  print(m)\n"
      ]
    },
    {
      "cell_type": "code",
      "execution_count": null,
      "metadata": {
        "colab": {
          "base_uri": "https://localhost:8080/"
        },
        "id": "OMqB5zp_FpBi",
        "outputId": "9613f2aa-d2b2-4736-ee5c-e86708cdd6bf"
      },
      "outputs": [
        {
          "name": "stdout",
          "output_type": "stream",
          "text": [
            "6\n",
            "secret number is greater\n",
            "8\n",
            "user defined number is greater\n",
            "7\n",
            "Congratulations\n",
            "Secret number is found. You won\n",
            "Secret number is  7\n"
          ]
        }
      ],
      "source": [
        "import random\n",
        "n=3\n",
        "m=(random.randint(1,10))\n",
        "for i in range(n):\n",
        "  g=int(input())\n",
        "  if(m>g):\n",
        "   print(\"secret number is greater\")\n",
        "\n",
        "  elif(m<g):\n",
        "    print(\"user defined number is greater\")\n",
        "\n",
        "  elif(m==g):\n",
        "    print(\"Congratulations\")\n",
        "    print(\"Secret number is found. You won\")\n",
        "    print(\"Secret number is \",m)\n",
        "    break;\n",
        "  else:\n",
        "    print(\"Enter the number in range\")\n",
        "\n"
      ]
    },
    {
      "cell_type": "code",
      "execution_count": null,
      "metadata": {
        "colab": {
          "base_uri": "https://localhost:8080/"
        },
        "id": "_eb4OrsTNIQD",
        "outputId": "d4fa34d0-bb2d-466e-fdac-561433fa1b0e"
      },
      "outputs": [
        {
          "name": "stdout",
          "output_type": "stream",
          "text": [
            "Dinesh Vardhan\n"
          ]
        }
      ],
      "source": [
        "#string Concat\n",
        "s1=\"Dinesh\"\n",
        "s2=\"Vardhan\"\n",
        "print(s1+\" \"+s2)"
      ]
    },
    {
      "cell_type": "code",
      "execution_count": null,
      "metadata": {
        "colab": {
          "base_uri": "https://localhost:8080/"
        },
        "id": "o3Aho3kHNJ9F",
        "outputId": "2fcf1e31-1337-4871-d8fc-25b5d021a9ad"
      },
      "outputs": [
        {
          "name": "stdout",
          "output_type": "stream",
          "text": [
            "(0, 'H')\n",
            "(1, 'e')\n",
            "(2, 'l')\n",
            "(3, 'l')\n",
            "(4, 'o')\n",
            "(5, ' ')\n",
            "(6, 'D')\n",
            "(7, 'i')\n",
            "(8, 'n')\n",
            "(9, 'e')\n",
            "(10, 's')\n",
            "(11, 'h')\n"
          ]
        }
      ],
      "source": [
        "#string enumerate\n",
        "s1=\"Hello Dinesh\"\n",
        "for i in enumerate(s1):\n",
        "  print(i)"
      ]
    },
    {
      "cell_type": "code",
      "execution_count": null,
      "metadata": {
        "colab": {
          "base_uri": "https://localhost:8080/"
        },
        "id": "IRCUf-mbOUKZ",
        "outputId": "5babbf3b-ed2f-4571-f328-d2a7016a5f6a"
      },
      "outputs": [
        {
          "name": "stdout",
          "output_type": "stream",
          "text": [
            "('Hi, How ', 'are', ' you doing? Are you fine?')\n"
          ]
        }
      ],
      "source": [
        "#String partititon\n",
        "s1=\"Hi, How are you doing? Are you fine?\"\n",
        "print(s1.partition(\"are\"))"
      ]
    },
    {
      "cell_type": "code",
      "execution_count": null,
      "metadata": {
        "colab": {
          "base_uri": "https://localhost:8080/"
        },
        "id": "4d2UWyDKOdcx",
        "outputId": "a1b21996-818a-454a-f331-9ea76042ef81"
      },
      "outputs": [
        {
          "name": "stdout",
          "output_type": "stream",
          "text": [
            "Hello Python\n"
          ]
        }
      ],
      "source": [
        "#Strip it removes spaces infront of the first character\n",
        "s1=\"    Hello Python \"\n",
        "print(s1.strip())"
      ]
    },
    {
      "cell_type": "code",
      "execution_count": null,
      "metadata": {
        "colab": {
          "base_uri": "https://localhost:8080/"
        },
        "id": "mo_fU0-wPDn1",
        "outputId": "0ac7928b-e1f4-4bfa-cab4-b504878328de"
      },
      "outputs": [
        {
          "name": "stdout",
          "output_type": "stream",
          "text": [
            "hello programming\n"
          ]
        }
      ],
      "source": [
        "#String Replace\n",
        "s1=\"hi programming\"\n",
        "print(s1.replace(\"hi\",\"hello\"))"
      ]
    },
    {
      "cell_type": "code",
      "execution_count": null,
      "metadata": {
        "colab": {
          "base_uri": "https://localhost:8080/"
        },
        "id": "ttVzifPYPVPj",
        "outputId": "3f93b2f7-fdf4-4d8d-8fb0-722a68ab553a"
      },
      "outputs": [
        {
          "name": "stdout",
          "output_type": "stream",
          "text": [
            "['Hi', 'python']\n"
          ]
        }
      ],
      "source": [
        "#String Split\n",
        "s1=\"Hi python\"\n",
        "print(s1.split())"
      ]
    },
    {
      "cell_type": "code",
      "execution_count": null,
      "metadata": {
        "colab": {
          "base_uri": "https://localhost:8080/"
        },
        "id": "oKbtI8BFPvtn",
        "outputId": "46e876c8-344a-4937-93d5-a17f9bcaca52"
      },
      "outputs": [
        {
          "name": "stdout",
          "output_type": "stream",
          "text": [
            "hello guru\n"
          ]
        }
      ],
      "source": [
        "#String lower case\n",
        "s1=\"Hello guru\"\n",
        "print(s1.lower())"
      ]
    },
    {
      "cell_type": "code",
      "execution_count": null,
      "metadata": {
        "colab": {
          "base_uri": "https://localhost:8080/"
        },
        "id": "YrkknOqXQSQz",
        "outputId": "28f006c1-126b-4865-d385-18d7e598e361"
      },
      "outputs": [
        {
          "name": "stdout",
          "output_type": "stream",
          "text": [
            "HELLO GURU\n"
          ]
        }
      ],
      "source": [
        "#String upper case\n",
        "s1=\"Hello Guru\"\n",
        "print(s1.upper())"
      ]
    },
    {
      "cell_type": "code",
      "execution_count": null,
      "metadata": {
        "colab": {
          "base_uri": "https://localhost:8080/"
        },
        "id": "s8_N-n5vQdKQ",
        "outputId": "3836a4e4-aaa8-4ff4-bc40-728a339504ef"
      },
      "outputs": [
        {
          "name": "stdout",
          "output_type": "stream",
          "text": [
            "1\n"
          ]
        }
      ],
      "source": [
        "#String Count\n",
        "s1=\"Hello Guru How are you?\"\n",
        "print(s1.count(\"are\"))"
      ]
    },
    {
      "cell_type": "code",
      "execution_count": null,
      "metadata": {
        "colab": {
          "base_uri": "https://localhost:8080/"
        },
        "id": "pPrsBFmvQzAe",
        "outputId": "23e5fb0d-c613-4c51-acb9-3332a2af8c13"
      },
      "outputs": [
        {
          "name": "stdout",
          "output_type": "stream",
          "text": [
            "[1, 2, 3, 4]\n"
          ]
        }
      ],
      "source": [
        "my_list=[1,2,3]\n",
        "my_list.append(4)\n",
        "print(my_list)"
      ]
    },
    {
      "cell_type": "code",
      "execution_count": null,
      "metadata": {
        "colab": {
          "base_uri": "https://localhost:8080/"
        },
        "id": "4--F8kASQ-0K",
        "outputId": "961db3b5-09fc-408d-a009-d90d55715516"
      },
      "outputs": [
        {
          "name": "stdout",
          "output_type": "stream",
          "text": [
            "[1, 2, 3, 4, 5, 6, 7, 8]\n"
          ]
        }
      ],
      "source": [
        "my_list=[1,2,3,4,5]\n",
        "my_list.extend([6,7,8])\n",
        "print(my_list)"
      ]
    },
    {
      "cell_type": "code",
      "execution_count": null,
      "metadata": {
        "colab": {
          "base_uri": "https://localhost:8080/"
        },
        "id": "GuOHsEpdRNPi",
        "outputId": "36f15c10-41a8-4d0f-ec8b-5dd8e8b33c0d"
      },
      "outputs": [
        {
          "name": "stdout",
          "output_type": "stream",
          "text": [
            "[6, 1, 2, 3, 4, 5]\n"
          ]
        }
      ],
      "source": [
        "my_list=[1,2,3,4,5]\n",
        "my_list.insert(0,6)\n",
        "print(my_list)"
      ]
    },
    {
      "cell_type": "code",
      "execution_count": null,
      "metadata": {
        "colab": {
          "base_uri": "https://localhost:8080/"
        },
        "id": "yy0X3NQQRm19",
        "outputId": "1b9ff9e6-bdd9-4632-a848-99763e6aaaa8"
      },
      "outputs": [
        {
          "name": "stdout",
          "output_type": "stream",
          "text": [
            "[1, 2, 3]\n"
          ]
        }
      ],
      "source": [
        "my_list=[1,2,3,4]\n",
        "my_list.remove(4)\n",
        "print(my_list)"
      ]
    },
    {
      "cell_type": "code",
      "execution_count": null,
      "metadata": {
        "colab": {
          "base_uri": "https://localhost:8080/"
        },
        "id": "0bDFxeyYSDHR",
        "outputId": "6e7bd7fc-9deb-4d8f-f5fc-cd552aa89a00"
      },
      "outputs": [
        {
          "name": "stdout",
          "output_type": "stream",
          "text": [
            "[2, 3]\n"
          ]
        }
      ],
      "source": [
        "my_list=[1,2,3]\n",
        "my_list.pop(0)\n",
        "print(my_list)"
      ]
    },
    {
      "cell_type": "code",
      "execution_count": null,
      "metadata": {
        "colab": {
          "base_uri": "https://localhost:8080/"
        },
        "id": "VEu_-nJfSeNi",
        "outputId": "45a3ebdd-3729-480b-dab4-33a15cd5afe0"
      },
      "outputs": [
        {
          "data": {
            "text/plain": [
              "1"
            ]
          },
          "execution_count": 62,
          "metadata": {},
          "output_type": "execute_result"
        }
      ],
      "source": [
        "my_list=[1,2,3]\n",
        "my_list.index(2)\n"
      ]
    },
    {
      "cell_type": "code",
      "execution_count": null,
      "metadata": {
        "colab": {
          "base_uri": "https://localhost:8080/"
        },
        "id": "tG4W09G0SxL1",
        "outputId": "0fa61542-a309-4e7f-ef24-ccf5101245fa"
      },
      "outputs": [
        {
          "name": "stdout",
          "output_type": "stream",
          "text": [
            "[4, 3, 2, 1]\n"
          ]
        }
      ],
      "source": [
        "my_list=[1,2,3,4]\n",
        "my_list.reverse()\n",
        "print(my_list)"
      ]
    },
    {
      "cell_type": "code",
      "execution_count": null,
      "metadata": {
        "colab": {
          "base_uri": "https://localhost:8080/"
        },
        "id": "MeENAWnaS1EQ",
        "outputId": "f8395c85-4605-46ad-fecd-59c957f17602"
      },
      "outputs": [
        {
          "data": {
            "text/plain": [
              "1"
            ]
          },
          "execution_count": 60,
          "metadata": {},
          "output_type": "execute_result"
        }
      ],
      "source": [
        "my_list=[1,2,3,4]\n",
        "my_list.count(2)\n"
      ]
    },
    {
      "cell_type": "code",
      "execution_count": null,
      "metadata": {
        "colab": {
          "base_uri": "https://localhost:8080/"
        },
        "id": "dJO-XHI7TQV_",
        "outputId": "e4667c45-4347-4725-b7c5-31384f72dfec"
      },
      "outputs": [
        {
          "name": "stdout",
          "output_type": "stream",
          "text": [
            "[]\n"
          ]
        }
      ],
      "source": [
        "my_list=[1,2,3,4]\n",
        "my_list.clear()\n",
        "print(my_list)"
      ]
    },
    {
      "cell_type": "code",
      "execution_count": null,
      "metadata": {
        "colab": {
          "base_uri": "https://localhost:8080/"
        },
        "id": "F7ZcZK-tKSyE",
        "outputId": "9c62aff1-3c31-4592-96b7-12fec5a8df2f"
      },
      "outputs": [
        {
          "name": "stdout",
          "output_type": "stream",
          "text": [
            "Enter your number: 10\n",
            "*\n",
            "**\n",
            "***\n",
            "****\n",
            "*****\n",
            "******\n",
            "*******\n",
            "********\n",
            "*********\n",
            "**********\n"
          ]
        }
      ],
      "source": [
        "n=int(input(\"Enter your number: \"))\n",
        "for i in range (n):\n",
        "  for j in range (i+1):\n",
        "    print(\"*\",end=\"\")\n",
        "  print()"
      ]
    },
    {
      "cell_type": "code",
      "execution_count": null,
      "metadata": {
        "colab": {
          "base_uri": "https://localhost:8080/"
        },
        "id": "gqtwaP7HlR0z",
        "outputId": "f195898e-eefc-4e46-a23f-fcdcf2c2acbb"
      },
      "outputs": [
        {
          "name": "stdout",
          "output_type": "stream",
          "text": [
            "Enter your number: 10\n",
            "         *\n",
            "        **\n",
            "       ***\n",
            "      ****\n",
            "     *****\n",
            "    ******\n",
            "   *******\n",
            "  ********\n",
            " *********\n",
            "**********\n"
          ]
        }
      ],
      "source": [
        "n=int(input(\"Enter your number: \"))\n",
        "for i in range(1,n+1):\n",
        "  for j in range (n-1,i-1,-1):\n",
        "    print(\" \",end=\"\")\n",
        "  for k in range (1,i+1):\n",
        "    print(\"*\",end=\"\")\n",
        "  print()"
      ]
    },
    {
      "cell_type": "code",
      "execution_count": null,
      "metadata": {
        "colab": {
          "base_uri": "https://localhost:8080/"
        },
        "id": "L9lPdrig6P6h",
        "outputId": "1206a29a-df40-420e-e9f7-76eed05c4c3a"
      },
      "outputs": [
        {
          "name": "stdout",
          "output_type": "stream",
          "text": [
            "Enter your number: 5\n",
            "    1\n",
            "   22\n",
            "  333\n",
            " 4444\n",
            "55555\n"
          ]
        }
      ],
      "source": [
        "n=int(input(\"Enter your number: \"))\n",
        "for i in range(1,n+1):\n",
        "  for j in range (n-1,i-1,-1):\n",
        "    print(\" \",end=\"\")\n",
        "  for k in range (1,i+1):\n",
        "    print(i,end=\"\")\n",
        "  print()"
      ]
    },
    {
      "cell_type": "code",
      "execution_count": null,
      "metadata": {
        "colab": {
          "base_uri": "https://localhost:8080/"
        },
        "id": "JYdtl3e46Z4c",
        "outputId": "2c5b75bb-66be-4d40-91f3-f8bb02a3593d"
      },
      "outputs": [
        {
          "name": "stdout",
          "output_type": "stream",
          "text": [
            "\n",
            "1\n",
            "23\n",
            "456\n",
            "78910\n"
          ]
        }
      ],
      "source": [
        "n = 5\n",
        "num=1\n",
        "\n",
        "for i in range(n):\n",
        "    for j in range(i):\n",
        "        print(num, end='')\n",
        "        num += 1\n",
        "    print()"
      ]
    },
    {
      "cell_type": "code",
      "execution_count": null,
      "metadata": {
        "colab": {
          "base_uri": "https://localhost:8080/"
        },
        "id": "IJ5l91M-6x4h",
        "outputId": "12b5b4f3-7e86-4a16-9850-99acf3a26050"
      },
      "outputs": [
        {
          "name": "stdout",
          "output_type": "stream",
          "text": [
            "Enter your number: 6\n",
            "\n",
            "A\n",
            "BC\n",
            "DEF\n",
            "GHIJ\n",
            "KLMNO\n"
          ]
        }
      ],
      "source": [
        "p=65\n",
        "n=int(input(\"Enter your number: \"))\n",
        "for i in range(n):\n",
        "  for j in range(i):\n",
        "    print(chr(p),end='')\n",
        "    p +=1\n",
        "  print()"
      ]
    },
    {
      "cell_type": "code",
      "execution_count": null,
      "metadata": {
        "colab": {
          "base_uri": "https://localhost:8080/"
        },
        "id": "IG_xhiH572bp",
        "outputId": "81a21f17-ebb0-4a12-f1cc-f7dce5cc3296"
      },
      "outputs": [
        {
          "name": "stdout",
          "output_type": "stream",
          "text": [
            "Enter your number: 6\n",
            "\n",
            "A\n",
            "BB\n",
            "CCC\n",
            "DDDD\n",
            "EEEEE\n"
          ]
        }
      ],
      "source": [
        "p=64\n",
        "n=int(input(\"Enter your number: \"))\n",
        "for i in range(n):\n",
        "  for j in range (i):\n",
        "    print(chr(p),end='')\n",
        "  p+=1\n",
        "  print()"
      ]
    },
    {
      "cell_type": "code",
      "execution_count": null,
      "metadata": {
        "colab": {
          "base_uri": "https://localhost:8080/"
        },
        "id": "RvHQcLcH9ISV",
        "outputId": "d9922299-5452-4721-beed-7d58a8e9af71"
      },
      "outputs": [
        {
          "name": "stdout",
          "output_type": "stream",
          "text": [
            "Enter your number: 6\n",
            "     A\n",
            "    BC\n",
            "   DEF\n",
            "  GHIJ\n",
            " KLMNO\n",
            "PQRSTU\n"
          ]
        }
      ],
      "source": [
        "p=65\n",
        "n=int(input(\"Enter your number: \"))\n",
        "for i in range(1,n+1):\n",
        "  for j in range (n-1,i-1,-1):\n",
        "    print(\" \",end=\"\")\n",
        "  for k in range (1,i+1):\n",
        "    print(chr(p),end=\"\")\n",
        "    p+=1\n",
        "  print()"
      ]
    },
    {
      "cell_type": "code",
      "execution_count": null,
      "metadata": {
        "colab": {
          "base_uri": "https://localhost:8080/"
        },
        "id": "E4J0ha8x9aCs",
        "outputId": "70657b47-0cb1-4359-a41d-c4405e795301"
      },
      "outputs": [
        {
          "name": "stdout",
          "output_type": "stream",
          "text": [
            "Enter your number: 6\n",
            "     A\n",
            "    BB\n",
            "   CCC\n",
            "  DDDD\n",
            " EEEEE\n",
            "FFFFFF\n"
          ]
        }
      ],
      "source": [
        "p=65\n",
        "n=int(input(\"Enter your number: \"))\n",
        "for i in range(1,n+1):\n",
        "  for j in range (n-1,i-1,-1):\n",
        "    print(\" \",end=\"\")\n",
        "  for k in range (1,i+1):\n",
        "    print(chr(p),end=\"\")\n",
        "  p+=1\n",
        "  print()"
      ]
    },
    {
      "cell_type": "code",
      "execution_count": null,
      "metadata": {
        "colab": {
          "base_uri": "https://localhost:8080/"
        },
        "id": "RlXKZdmJ-IQE",
        "outputId": "892b94e9-780e-4641-ccf2-b396a769205d"
      },
      "outputs": [
        {
          "name": "stdout",
          "output_type": "stream",
          "text": [
            "ABCDE\n",
            "FGHI\n",
            "JKL\n",
            "MN\n",
            "O\n"
          ]
        }
      ],
      "source": [
        "p=65\n",
        "n=5\n",
        "for i in range (n):\n",
        "  for j in range (n-i):\n",
        "    print(chr(p),end='')\n",
        "    p+=1\n",
        "  print()"
      ]
    },
    {
      "cell_type": "code",
      "execution_count": null,
      "metadata": {
        "colab": {
          "base_uri": "https://localhost:8080/"
        },
        "id": "N6PatccR-Vpv",
        "outputId": "f4aa574b-8f2d-4707-a1e2-579f15ec2e7d"
      },
      "outputs": [
        {
          "name": "stdout",
          "output_type": "stream",
          "text": [
            "AAAAA\n",
            "BBBB\n",
            "CCC\n",
            "DD\n",
            "E\n"
          ]
        }
      ],
      "source": [
        "p=65\n",
        "n=5\n",
        "for i in range (n):\n",
        "  for j in range (n-i):\n",
        "    print(chr(p),end='')\n",
        "  p+=1\n",
        "  print()"
      ]
    },
    {
      "cell_type": "code",
      "execution_count": null,
      "metadata": {
        "colab": {
          "base_uri": "https://localhost:8080/"
        },
        "id": "09E8-tCZ-1CH",
        "outputId": "d3f391d7-8b91-4910-9b45-06133d62fc70"
      },
      "outputs": [
        {
          "name": "stdout",
          "output_type": "stream",
          "text": [
            "         *          \n",
            "        * *         \n",
            "       * * *        \n",
            "      * * * *       \n",
            "     * * * * *      \n",
            "    * * * * * *     \n",
            "   * * * * * * *    \n",
            "  * * * * * * * *   \n",
            " * * * * * * * * *  \n",
            "* * * * * * * * * * \n"
          ]
        }
      ],
      "source": [
        "n=10\n",
        "for i in range(1,n+1):\n",
        "  for j in range(1,n-i+1):\n",
        "    print(\" \",end=\"\")\n",
        "  for k in range(1,i+1):\n",
        "    print(\"*\",end=\" \")\n",
        "  for j in range(1,n-i+1):\n",
        "    print(\" \",end=\"\")\n",
        "  print()\n"
      ]
    },
    {
      "cell_type": "code",
      "execution_count": null,
      "metadata": {
        "colab": {
          "base_uri": "https://localhost:8080/"
        },
        "id": "ECIunIl1E17u",
        "outputId": "7f986f98-1a6e-41ab-e135-05f778392a9f"
      },
      "outputs": [
        {
          "name": "stdout",
          "output_type": "stream",
          "text": [
            " * * * * * * * * *  \n",
            "  * * * * * * * *   \n",
            "   * * * * * * *    \n",
            "    * * * * * *     \n",
            "     * * * * *      \n",
            "      * * * *       \n",
            "       * * *        \n",
            "        * *         \n",
            "         *          \n"
          ]
        }
      ],
      "source": [
        "n=10\n",
        "for i in range(n-1,0,-1):\n",
        "  for j in range(n-i+1,1,-1):\n",
        "    print(\" \",end=\"\")\n",
        "  for k in range(1,i+1):\n",
        "    print(\"*\",end=\" \")\n",
        "  for j in range(n-i+1,1,-1):\n",
        "    print(\" \",end=\"\")\n",
        "  print()"
      ]
    },
    {
      "cell_type": "code",
      "execution_count": null,
      "metadata": {
        "colab": {
          "base_uri": "https://localhost:8080/"
        },
        "id": "dldVItJhE7VN",
        "outputId": "e058098a-c5be-437d-e7d4-4ae841dafbeb"
      },
      "outputs": [
        {
          "name": "stdout",
          "output_type": "stream",
          "text": [
            "         *          \n",
            "        * *         \n",
            "       * * *        \n",
            "      * * * *       \n",
            "     * * * * *      \n",
            "    * * * * * *     \n",
            "   * * * * * * *    \n",
            "  * * * * * * * *   \n",
            " * * * * * * * * *  \n",
            "* * * * * * * * * * \n",
            " * * * * * * * * *  \n",
            "  * * * * * * * *   \n",
            "   * * * * * * *    \n",
            "    * * * * * *     \n",
            "     * * * * *      \n",
            "      * * * *       \n",
            "       * * *        \n",
            "        * *         \n",
            "         *          \n"
          ]
        }
      ],
      "source": [
        "n=10\n",
        "for i in range(1,n+1):\n",
        "  for j in range(1,n-i+1):\n",
        "    print(\" \",end=\"\")\n",
        "  for k in range(1,i+1):\n",
        "    print(\"*\",end=\" \")\n",
        "  for j in range(1,n-i+1):\n",
        "    print(\" \",end=\"\")\n",
        "  print()\n",
        "for i in range(n-1,0,-1):\n",
        "  for j in range(n-i+1,1,-1):\n",
        "    print(\" \",end=\"\")\n",
        "  for k in range(1,i+1):\n",
        "    print(\"*\",end=\" \")\n",
        "  for j in range(n-i+1,1,-1):\n",
        "    print(\" \",end=\"\")\n",
        "  print()"
      ]
    },
    {
      "cell_type": "code",
      "execution_count": null,
      "metadata": {
        "colab": {
          "base_uri": "https://localhost:8080/"
        },
        "id": "KugWRHVIG0DT",
        "outputId": "9567c646-422d-45a8-d559-cd3911b4446b"
      },
      "outputs": [
        {
          "name": "stdout",
          "output_type": "stream",
          "text": [
            "* * * * * \n",
            "*       *\n",
            "*       *\n",
            "*       *\n",
            "* * * * * \n"
          ]
        }
      ],
      "source": [
        "n=5\n",
        "for i in range (1,n+1):\n",
        "  if i==1 or i==n:\n",
        "    print(\"* \"*n)\n",
        "  else:\n",
        "    print(\"*\"+\" \"*(n-2)+\"    *\")\n",
        "\n",
        "\n"
      ]
    },
    {
      "cell_type": "code",
      "execution_count": null,
      "metadata": {
        "colab": {
          "base_uri": "https://localhost:8080/"
        },
        "id": "mR61GO0rKh09",
        "outputId": "6ae22cd7-5d70-4ca4-ddf3-855b1c590d46"
      },
      "outputs": [
        {
          "name": "stdout",
          "output_type": "stream",
          "text": [
            "   *    \n",
            "  * *   \n",
            " *   *  \n",
            "* * * * \n"
          ]
        }
      ],
      "source": [
        "n=4\n",
        "for i in range(1,n+1):\n",
        "  for j in range(1,n-i+1):\n",
        "    print(\" \",end=\"\")\n",
        "  for k in range(1,i+1):\n",
        "    if k==1 or k==i or i==n:\n",
        "      print(\"*\",end=\" \")\n",
        "    else:\n",
        "      print(\" \",end=\" \")\n",
        "  for j in range(1,n-i+1):\n",
        "    print(\" \",end=\"\")\n",
        "  print()"
      ]
    },
    {
      "cell_type": "code",
      "execution_count": null,
      "metadata": {
        "colab": {
          "base_uri": "https://localhost:8080/"
        },
        "id": "8uTlFdgTPslT",
        "outputId": "87b22629-9b69-4602-f4fd-0a8852fc59d0"
      },
      "outputs": [
        {
          "output_type": "stream",
          "name": "stdout",
          "text": [
            "         *          \n",
            "        * *         \n",
            "       *   *        \n",
            "      *     *       \n",
            "     *       *      \n",
            "    *         *     \n",
            "   *           *    \n",
            "  *             *   \n",
            " *               *  \n",
            "*                 * \n",
            " *               *  \n",
            "  *             *   \n",
            "   *           *    \n",
            "    *         *     \n",
            "     *       *      \n",
            "      *     *       \n",
            "       *   *        \n",
            "        * *         \n",
            "         *          \n"
          ]
        }
      ],
      "source": [
        "n=10\n",
        "for i in range(1,n+1):\n",
        "  for j in range(1,n-i+1):\n",
        "    print(\" \",end=\"\")\n",
        "  for k in range(1,i+1):\n",
        "    if k==1 or k==i or i==1:\n",
        "      print(\"*\",end=\" \")\n",
        "    else:\n",
        "      print(\" \",end=\" \")\n",
        "  for j in range(1,n-i+1):\n",
        "    print(\" \",end=\"\")\n",
        "  print()\n",
        "for i in range(n-1,0,-1):\n",
        "  for j in range(n-i+1,1,-1):\n",
        "    print(\" \",end=\"\")\n",
        "  for k in range(1,i+1):\n",
        "    if k==1 or k==i or i==n:\n",
        "      print(\"*\",end=\" \")\n",
        "    else:\n",
        "      print(\" \",end=\" \")\n",
        "  for j in range(n-i+1,1,-1):\n",
        "    print(\" \",end=\"\")\n",
        "  print()"
      ]
    },
    {
      "cell_type": "code",
      "source": [
        "n=5\n",
        "for i in range (1,n+1):\n",
        "  for j in range(1,i+1):\n",
        "    print(\"*\",end='')\n",
        "  print()\n",
        "for i in range(n-1,0,-1):\n",
        "  for j in range(1,i+1,):\n",
        "    print(\"*\",end='')\n",
        "  print()"
      ],
      "metadata": {
        "colab": {
          "base_uri": "https://localhost:8080/"
        },
        "id": "8-HXBeVWR4b3",
        "outputId": "6c8e2cca-9f33-465d-c064-acfb15589918"
      },
      "execution_count": null,
      "outputs": [
        {
          "output_type": "stream",
          "name": "stdout",
          "text": [
            "*\n",
            "**\n",
            "***\n",
            "****\n",
            "*****\n",
            "****\n",
            "***\n",
            "**\n",
            "*\n"
          ]
        }
      ]
    },
    {
      "cell_type": "code",
      "source": [
        "n = 5\n",
        "\n",
        "for i in range(1, n + 1):\n",
        "    l = \"*\" * i\n",
        "    s = \" \" * (2 * (n - i))\n",
        "    r = \"*\" * i\n",
        "    print(l + s + r)\n",
        "\n",
        "for i in range(n - 1, 0, -1):\n",
        "    l = \"*\" * i\n",
        "    s = \" \" * (2 * (n - i))\n",
        "    r = \"*\" * i\n",
        "    print(l + s + r)"
      ],
      "metadata": {
        "colab": {
          "base_uri": "https://localhost:8080/"
        },
        "id": "VPrrt2FqTKRP",
        "outputId": "d051832c-10b9-4e99-f245-ed65b53a38a9"
      },
      "execution_count": null,
      "outputs": [
        {
          "output_type": "stream",
          "name": "stdout",
          "text": [
            "*        *\n",
            "**      **\n",
            "***    ***\n",
            "****  ****\n",
            "**********\n",
            "****  ****\n",
            "***    ***\n",
            "**      **\n",
            "*        *\n"
          ]
        }
      ]
    },
    {
      "cell_type": "code",
      "source": [
        "n = 5\n",
        "\n",
        "def spc(i):\n",
        "    if i == 1:\n",
        "        return \"*\"\n",
        "    elif i == 2:\n",
        "        return \"**\"\n",
        "    else:\n",
        "        return \"*\" + \" \" * (i - 2) + \"*\"\n",
        "\n",
        "for i in range(1, n + 1):\n",
        "    l = spc(i)\n",
        "    s = \" \" * (2 * (n - i))\n",
        "    r = spc(i)\n",
        "    print(l + s + r)\n",
        "\n",
        "\n",
        "for i in range(n - 1, 0, -1):\n",
        "    l = spc(i)\n",
        "    s = \" \" * (2 * (n - i))\n",
        "    r = spc(i)\n",
        "    print(l + s + r)\n"
      ],
      "metadata": {
        "colab": {
          "base_uri": "https://localhost:8080/"
        },
        "id": "7o1PY4wjUg3p",
        "outputId": "5ac77943-cbcf-46c3-eb2a-f420e5e754d7"
      },
      "execution_count": null,
      "outputs": [
        {
          "output_type": "stream",
          "name": "stdout",
          "text": [
            "*        *\n",
            "**      **\n",
            "* *    * *\n",
            "*  *  *  *\n",
            "*   **   *\n",
            "*  *  *  *\n",
            "* *    * *\n",
            "**      **\n",
            "*        *\n"
          ]
        }
      ]
    },
    {
      "cell_type": "code",
      "source": [
        "l=[-1,2,10,15,20]\n",
        "max=l[0]\n",
        "for i in l:\n",
        "  if i>max:\n",
        "    max=i\n",
        "print(max)\n"
      ],
      "metadata": {
        "colab": {
          "base_uri": "https://localhost:8080/"
        },
        "id": "dve0KuoZPdAg",
        "outputId": "39a38344-77f2-4080-b1c0-9bda89e10978"
      },
      "execution_count": null,
      "outputs": [
        {
          "output_type": "stream",
          "name": "stdout",
          "text": [
            "20\n"
          ]
        }
      ]
    },
    {
      "cell_type": "code",
      "source": [
        "\n",
        "st=[1,2,3,4]\n",
        "sp=[]\n",
        "arr=max(st)\n",
        "sp.append(arr)\n",
        "print(sp)\n"
      ],
      "metadata": {
        "colab": {
          "base_uri": "https://localhost:8080/"
        },
        "id": "qHY-IffZXE99",
        "outputId": "33c4e2ae-9d8e-45ef-b65e-b5219f294552"
      },
      "execution_count": null,
      "outputs": [
        {
          "output_type": "stream",
          "name": "stdout",
          "text": [
            "[4]\n"
          ]
        }
      ]
    },
    {
      "cell_type": "code",
      "source": [
        "l=[-1,2,10,15,20]\n",
        "min=l[0]\n",
        "for i in l:\n",
        "  if i<min:\n",
        "    min=i\n",
        "print(min)"
      ],
      "metadata": {
        "colab": {
          "base_uri": "https://localhost:8080/"
        },
        "id": "KKOTsWP9T_Vv",
        "outputId": "0c1121a7-cf5e-4f9b-e002-0341f74fcb99"
      },
      "execution_count": null,
      "outputs": [
        {
          "output_type": "stream",
          "name": "stdout",
          "text": [
            "-1\n"
          ]
        }
      ]
    },
    {
      "cell_type": "code",
      "source": [
        "\n",
        "st=[1,2,3,4]\n",
        "sp=[]\n",
        "arr=min(st)\n",
        "sp.append(arr)\n",
        "print(sp)"
      ],
      "metadata": {
        "colab": {
          "base_uri": "https://localhost:8080/"
        },
        "id": "GlP2Pj_qNpAP",
        "outputId": "a5fa5109-7082-44f3-999b-68cb7f85cec3"
      },
      "execution_count": null,
      "outputs": [
        {
          "output_type": "stream",
          "name": "stdout",
          "text": [
            "[1]\n"
          ]
        }
      ]
    },
    {
      "cell_type": "code",
      "source": [
        "print(hash(\"apple\"))"
      ],
      "metadata": {
        "colab": {
          "base_uri": "https://localhost:8080/"
        },
        "id": "3KMacAhQsnZK",
        "outputId": "3e0afa30-49aa-4cb7-cf7b-3e11ee7fa8b4"
      },
      "execution_count": null,
      "outputs": [
        {
          "output_type": "stream",
          "name": "stdout",
          "text": [
            "1402795808032728161\n"
          ]
        }
      ]
    },
    {
      "cell_type": "code",
      "source": [
        "import string , random\n",
        "letters = string.ascii_letters\n",
        "digits = string.digits\n",
        "special_chars = string.punctuation\n",
        "print(''.join(random.choices(special_chars+digits+letters,k=10)))"
      ],
      "metadata": {
        "colab": {
          "base_uri": "https://localhost:8080/"
        },
        "id": "KV_U95xZvtR1",
        "outputId": "ecbb161a-0196-4fc4-b044-9dd0b99a946f"
      },
      "execution_count": null,
      "outputs": [
        {
          "output_type": "stream",
          "name": "stdout",
          "text": [
            "1ao,]u:!gI\n"
          ]
        }
      ]
    },
    {
      "cell_type": "code",
      "source": [
        "import string, random\n",
        "letters=string.ascii_letters\n",
        "digits = string.digits\n",
        "special_chars = string.punctuation\n",
        "mix = (string.ascii_letters*3+string.digits*2+string.punctuation*7+string.ascii_letters*3)\n",
        "print(''.join(random.choices(mix,k=10)))"
      ],
      "metadata": {
        "colab": {
          "base_uri": "https://localhost:8080/"
        },
        "id": "XvksI_LgCawi",
        "outputId": "79461ae1-759b-44f1-ae7d-209c28156e5c"
      },
      "execution_count": null,
      "outputs": [
        {
          "output_type": "stream",
          "name": "stdout",
          "text": [
            "_N'>vX@zDL\n"
          ]
        }
      ]
    },
    {
      "cell_type": "code",
      "source": [
        "import string\n",
        "st=string.digits\n",
        "even = st[::2]\n",
        "odd = st[1::2]\n",
        "print(even)\n",
        "print(odd)\n"
      ],
      "metadata": {
        "colab": {
          "base_uri": "https://localhost:8080/"
        },
        "id": "3VMzyxjpDdxN",
        "outputId": "6c2a9336-3be3-4885-f59e-99da90ee5fb3"
      },
      "execution_count": null,
      "outputs": [
        {
          "output_type": "stream",
          "name": "stdout",
          "text": [
            "02468\n",
            "13579\n"
          ]
        }
      ]
    },
    {
      "cell_type": "code",
      "source": [
        "st=\" \"\n",
        "sp=input(\"Enter:\")\n",
        "print(sp)\n",
        "st=max(sp)\n",
        "print(st)\n"
      ],
      "metadata": {
        "colab": {
          "base_uri": "https://localhost:8080/"
        },
        "id": "N6LWlqm-Ed25",
        "outputId": "69e0df54-2cf9-4598-b47a-8aac5b1aa91e"
      },
      "execution_count": null,
      "outputs": [
        {
          "output_type": "stream",
          "name": "stdout",
          "text": [
            "Enter:4 5 6 8 9\n",
            "4 5 6 8 9\n",
            "9\n"
          ]
        }
      ]
    },
    {
      "cell_type": "code",
      "source": [
        "n=10\n",
        "sum=0\n",
        "for i in range(1,n+1):\n",
        "  sum+=i\n",
        "print(sum)"
      ],
      "metadata": {
        "colab": {
          "base_uri": "https://localhost:8080/"
        },
        "id": "MU7RAWvDalMq",
        "outputId": "251f1fb0-9aeb-4710-c0ad-9c6561f983b9"
      },
      "execution_count": null,
      "outputs": [
        {
          "output_type": "stream",
          "name": "stdout",
          "text": [
            "55\n"
          ]
        }
      ]
    },
    {
      "cell_type": "code",
      "source": [
        "n=10\n",
        "sum=0\n",
        "for i in range(1,n+1):\n",
        "  sum=sum+(i**2)\n",
        "print(sum)"
      ],
      "metadata": {
        "colab": {
          "base_uri": "https://localhost:8080/"
        },
        "id": "pifntn-Qa2Dr",
        "outputId": "ad0ebc72-ad0d-466d-f2ed-5fd679ae5086"
      },
      "execution_count": null,
      "outputs": [
        {
          "output_type": "stream",
          "name": "stdout",
          "text": [
            "385\n"
          ]
        }
      ]
    },
    {
      "cell_type": "code",
      "source": [
        "n=10\n",
        "print(n*(n+1)//2)"
      ],
      "metadata": {
        "colab": {
          "base_uri": "https://localhost:8080/"
        },
        "id": "GiIQtHVFbGup",
        "outputId": "3fe8a8c7-b11c-43e8-c14e-3baba0527e2f"
      },
      "execution_count": null,
      "outputs": [
        {
          "output_type": "stream",
          "name": "stdout",
          "text": [
            "55\n"
          ]
        }
      ]
    },
    {
      "cell_type": "code",
      "source": [
        "l = [-1, 0, 2, 4, 6]\n",
        "sum_num = 0\n",
        "\n",
        "for i in l:\n",
        "    if i % 2 == 0:\n",
        "        sum_num += i\n",
        "    print(sum_num)\n"
      ],
      "metadata": {
        "colab": {
          "base_uri": "https://localhost:8080/"
        },
        "id": "-8UrBVZubbpz",
        "outputId": "d64d0317-88a9-45ad-d6ea-c1d0c9efe4ab"
      },
      "execution_count": null,
      "outputs": [
        {
          "output_type": "stream",
          "name": "stdout",
          "text": [
            "0\n",
            "0\n",
            "2\n",
            "6\n",
            "12\n"
          ]
        }
      ]
    },
    {
      "cell_type": "code",
      "source": [
        "l=[-1,0,2,4,6]\n",
        "sum_num=[0]\n",
        "for i in l:\n",
        "  if i%2==0:\n",
        "    print(i)"
      ],
      "metadata": {
        "colab": {
          "base_uri": "https://localhost:8080/"
        },
        "id": "yt0z0eFMctrZ",
        "outputId": "9081f267-6836-4778-dc63-9ef502a4f8e6"
      },
      "execution_count": null,
      "outputs": [
        {
          "output_type": "stream",
          "name": "stdout",
          "text": [
            "0\n",
            "2\n",
            "4\n",
            "6\n"
          ]
        }
      ]
    },
    {
      "cell_type": "code",
      "source": [
        "l=[-1, 2, 9, 4, 6]\n",
        "sum_num=[0]\n",
        "h=\"\"\n",
        "for i in l:\n",
        "  if i%2 ==0:\n",
        "    h=sum_num.append()\n",
        "  print(h)\n"
      ],
      "metadata": {
        "colab": {
          "base_uri": "https://localhost:8080/",
          "height": 219
        },
        "id": "KyrFVSDQczKZ",
        "outputId": "25a47eec-a140-4da6-ac40-1ae78e23ba55"
      },
      "execution_count": null,
      "outputs": [
        {
          "output_type": "stream",
          "name": "stdout",
          "text": [
            "\n"
          ]
        },
        {
          "output_type": "error",
          "ename": "TypeError",
          "evalue": "list.append() takes exactly one argument (0 given)",
          "traceback": [
            "\u001b[0;31m---------------------------------------------------------------------------\u001b[0m",
            "\u001b[0;31mTypeError\u001b[0m                                 Traceback (most recent call last)",
            "\u001b[0;32m/tmp/ipython-input-1-223558928.py\u001b[0m in \u001b[0;36m<cell line: 0>\u001b[0;34m()\u001b[0m\n\u001b[1;32m      4\u001b[0m \u001b[0;32mfor\u001b[0m \u001b[0mi\u001b[0m \u001b[0;32min\u001b[0m \u001b[0ml\u001b[0m\u001b[0;34m:\u001b[0m\u001b[0;34m\u001b[0m\u001b[0;34m\u001b[0m\u001b[0m\n\u001b[1;32m      5\u001b[0m   \u001b[0;32mif\u001b[0m \u001b[0mi\u001b[0m\u001b[0;34m%\u001b[0m\u001b[0;36m2\u001b[0m \u001b[0;34m==\u001b[0m\u001b[0;36m0\u001b[0m\u001b[0;34m:\u001b[0m\u001b[0;34m\u001b[0m\u001b[0;34m\u001b[0m\u001b[0m\n\u001b[0;32m----> 6\u001b[0;31m     \u001b[0mh\u001b[0m\u001b[0;34m=\u001b[0m\u001b[0msum_num\u001b[0m\u001b[0;34m.\u001b[0m\u001b[0mappend\u001b[0m\u001b[0;34m(\u001b[0m\u001b[0;34m)\u001b[0m\u001b[0;34m\u001b[0m\u001b[0;34m\u001b[0m\u001b[0m\n\u001b[0m\u001b[1;32m      7\u001b[0m   \u001b[0mprint\u001b[0m\u001b[0;34m(\u001b[0m\u001b[0mh\u001b[0m\u001b[0;34m)\u001b[0m\u001b[0;34m\u001b[0m\u001b[0;34m\u001b[0m\u001b[0m\n",
            "\u001b[0;31mTypeError\u001b[0m: list.append() takes exactly one argument (0 given)"
          ]
        }
      ]
    }
  ],
  "metadata": {
    "colab": {
      "provenance": []
    },
    "kernelspec": {
      "display_name": "Python 3",
      "name": "python3"
    },
    "language_info": {
      "name": "python"
    }
  },
  "nbformat": 4,
  "nbformat_minor": 0
}